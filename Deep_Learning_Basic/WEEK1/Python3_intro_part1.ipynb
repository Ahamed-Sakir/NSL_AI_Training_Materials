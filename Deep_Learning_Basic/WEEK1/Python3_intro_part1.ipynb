{
 "cells": [
  {
   "cell_type": "markdown",
   "id": "20f08a88",
   "metadata": {},
   "source": [
    "## Index\n",
    "    - List\n",
    "    - None type\n",
    "    - Dictionary\n",
    "    - Tuple\n",
    "    - Set\n",
    "\n",
    "## List"
   ]
  },
  {
   "cell_type": "code",
   "execution_count": 1,
   "id": "be6501cb",
   "metadata": {},
   "outputs": [
    {
     "name": "stdout",
     "output_type": "stream",
     "text": [
      "<class 'list'>\n",
      "Anannya\n"
     ]
    }
   ],
   "source": [
    "word_list = ['sakir', 'Anannya', 'labonno']\n",
    "print(type(word_list))\n",
    "print(word_list[1])"
   ]
  },
  {
   "cell_type": "code",
   "execution_count": 2,
   "id": "7b81a1cb",
   "metadata": {},
   "outputs": [
    {
     "name": "stdout",
     "output_type": "stream",
     "text": [
      "[]\n"
     ]
    }
   ],
   "source": [
    "# Empty list\n",
    "zero_list = []\n",
    "print(zero_list)"
   ]
  },
  {
   "cell_type": "code",
   "execution_count": 4,
   "id": "4b5a977b",
   "metadata": {},
   "outputs": [
    {
     "name": "stdout",
     "output_type": "stream",
     "text": [
      "number\n",
      "1\n",
      "['sakir', 'Anannya']\n",
      "Anannya\n"
     ]
    }
   ],
   "source": [
    "# Add different types of data in a list\n",
    "number = 1\n",
    "mis_list = ['number', number, 1, ['sakir', 'Anannya']]\n",
    "print(mis_list[0])\n",
    "print(mis_list[1])\n",
    "print(mis_list[3])\n",
    "print(mis_list[3][1])"
   ]
  },
  {
   "cell_type": "code",
   "execution_count": 1,
   "id": "fa4b496c",
   "metadata": {},
   "outputs": [
    {
     "name": "stdout",
     "output_type": "stream",
     "text": [
      "[1, 5, 8, 999, 77]\n"
     ]
    }
   ],
   "source": [
    "# list operations\n",
    "my_numbers = [1,5,8,9,77]\n",
    "my_numbers[3] = 999\n",
    "print(my_numbers)"
   ]
  },
  {
   "cell_type": "code",
   "execution_count": 2,
   "id": "7270e572",
   "metadata": {},
   "outputs": [
    {
     "name": "stdout",
     "output_type": "stream",
     "text": [
      "[1, 5, 7, 88, 99, 666, 6, 'sakir']\n",
      "[1, 5, 7, 88, 99, 666, 6, 1, 5, 7, 88, 99, 666, 6, 1, 5, 7, 88, 99, 666, 6]\n"
     ]
    }
   ],
   "source": [
    "# list add, multiple operations\n",
    "first_number = [1,5,7,88,99,666,6]\n",
    "print(first_number + ['sakir'])\n",
    "print(first_number * 3)"
   ]
  },
  {
   "cell_type": "code",
   "execution_count": 4,
   "id": "021e1b52",
   "metadata": {},
   "outputs": [
    {
     "name": "stdout",
     "output_type": "stream",
     "text": [
      "True\n",
      "False\n",
      "True\n"
     ]
    }
   ],
   "source": [
    "# search in list\n",
    "fruits_list = ['mango', 'apple', 'orange', 'coconut', 'nuts']\n",
    "print('orange' in fruits_list)\n",
    "print('apple' not in fruits_list)\n",
    "print(not 'rice' in fruits_list)"
   ]
  },
  {
   "cell_type": "code",
   "execution_count": 5,
   "id": "7ac67167",
   "metadata": {},
   "outputs": [
    {
     "data": {
      "text/plain": [
       "['__add__',\n",
       " '__class__',\n",
       " '__class_getitem__',\n",
       " '__contains__',\n",
       " '__delattr__',\n",
       " '__delitem__',\n",
       " '__dir__',\n",
       " '__doc__',\n",
       " '__eq__',\n",
       " '__format__',\n",
       " '__ge__',\n",
       " '__getattribute__',\n",
       " '__getitem__',\n",
       " '__gt__',\n",
       " '__hash__',\n",
       " '__iadd__',\n",
       " '__imul__',\n",
       " '__init__',\n",
       " '__init_subclass__',\n",
       " '__iter__',\n",
       " '__le__',\n",
       " '__len__',\n",
       " '__lt__',\n",
       " '__mul__',\n",
       " '__ne__',\n",
       " '__new__',\n",
       " '__reduce__',\n",
       " '__reduce_ex__',\n",
       " '__repr__',\n",
       " '__reversed__',\n",
       " '__rmul__',\n",
       " '__setattr__',\n",
       " '__setitem__',\n",
       " '__sizeof__',\n",
       " '__str__',\n",
       " '__subclasshook__',\n",
       " 'append',\n",
       " 'clear',\n",
       " 'copy',\n",
       " 'count',\n",
       " 'extend',\n",
       " 'index',\n",
       " 'insert',\n",
       " 'pop',\n",
       " 'remove',\n",
       " 'reverse',\n",
       " 'sort']"
      ]
     },
     "execution_count": 5,
     "metadata": {},
     "output_type": "execute_result"
    }
   ],
   "source": [
    "# buit in function of list\n",
    "dir(list)"
   ]
  },
  {
   "cell_type": "code",
   "execution_count": 6,
   "id": "7916e474",
   "metadata": {},
   "outputs": [
    {
     "name": "stdout",
     "output_type": "stream",
     "text": [
      "Help on method_descriptor:\n",
      "\n",
      "append(self, object, /)\n",
      "    Append object to the end of the list.\n",
      "\n"
     ]
    }
   ],
   "source": [
    "help(list.append)"
   ]
  },
  {
   "cell_type": "code",
   "execution_count": 7,
   "id": "a035a803",
   "metadata": {},
   "outputs": [
    {
     "name": "stdout",
     "output_type": "stream",
     "text": [
      "[4, 5, 8, 88, 99]\n"
     ]
    }
   ],
   "source": [
    "number_list = [4,5,8,88]\n",
    "number_list.append(99)\n",
    "print(number_list)"
   ]
  },
  {
   "cell_type": "code",
   "execution_count": 8,
   "id": "745b0292",
   "metadata": {},
   "outputs": [
    {
     "name": "stdout",
     "output_type": "stream",
     "text": [
      "['A', 'B', 'F', 'C']\n"
     ]
    }
   ],
   "source": [
    "words = ['A', 'B', 'C']\n",
    "index = 2\n",
    "words.insert(index, 'F')\n",
    "print(words)"
   ]
  },
  {
   "cell_type": "code",
   "execution_count": 10,
   "id": "9d765f32",
   "metadata": {},
   "outputs": [
    {
     "name": "stdout",
     "output_type": "stream",
     "text": [
      "Apple juice\n",
      "Orange juice\n",
      "Pineapple juice\n",
      "Grape juice\n"
     ]
    }
   ],
   "source": [
    "# loop through iterate\n",
    "fruits_list = ['Apple', 'Orange', 'Pineapple', 'Grape']\n",
    "for fruit in fruits_list:\n",
    "    print(fruit + ' juice')"
   ]
  },
  {
   "cell_type": "code",
   "execution_count": 13,
   "id": "e2e3e723",
   "metadata": {},
   "outputs": [
    {
     "name": "stdout",
     "output_type": "stream",
     "text": [
      "[22, 21]\n",
      "[78, 80]\n",
      "[85, 90]\n"
     ]
    }
   ],
   "source": [
    "# list slice operations\n",
    "marks = [22, 21, 45, 78, 80, 85, 90]\n",
    "poor_marks = marks[:2]\n",
    "avg_marks = marks[3:5]\n",
    "good_marks = marks[5:]\n",
    "print(poor_marks)\n",
    "print(avg_marks)\n",
    "print(good_marks)"
   ]
  },
  {
   "cell_type": "code",
   "execution_count": 1,
   "id": "a172913f",
   "metadata": {},
   "outputs": [
    {
     "name": "stdout",
     "output_type": "stream",
     "text": [
      "[4, 78, 6, 4]\n"
     ]
    }
   ],
   "source": [
    "# slice with define step\n",
    "number_list = [1,2,3,4,5,78,9,6,5,4,55,555]\n",
    "start, end, step = 3, 11, 2\n",
    "new_list = number_list[start:end:step]\n",
    "print(new_list)"
   ]
  },
  {
   "cell_type": "code",
   "execution_count": 3,
   "id": "c572d29f",
   "metadata": {},
   "outputs": [
    {
     "name": "stdout",
     "output_type": "stream",
     "text": [
      "[4, 5, 78, 9, 6]\n"
     ]
    }
   ],
   "source": [
    "# negative slice\n",
    "number_list = [1,2,3,4,5,78,9,6,5,4,55,555]\n",
    "print(number_list[3:-4])"
   ]
  },
  {
   "cell_type": "markdown",
   "id": "e1b32f11",
   "metadata": {},
   "source": [
    "## None Type"
   ]
  },
  {
   "cell_type": "code",
   "execution_count": 4,
   "id": "3200e60c",
   "metadata": {},
   "outputs": [
    {
     "name": "stdout",
     "output_type": "stream",
     "text": [
      "Hi, I am sakir\n",
      "None\n"
     ]
    }
   ],
   "source": [
    "def my_func():\n",
    "    print('Hi, I am sakir')\n",
    "    \n",
    "value = my_func()\n",
    "print(value)"
   ]
  },
  {
   "cell_type": "code",
   "execution_count": 5,
   "id": "ae51bbbb",
   "metadata": {},
   "outputs": [
    {
     "data": {
      "text/plain": [
       "True"
      ]
     },
     "execution_count": 5,
     "metadata": {},
     "output_type": "execute_result"
    }
   ],
   "source": [
    "None == None"
   ]
  },
  {
   "cell_type": "code",
   "execution_count": 7,
   "id": "5f012896",
   "metadata": {},
   "outputs": [
    {
     "data": {
      "text/plain": [
       "False"
      ]
     },
     "execution_count": 7,
     "metadata": {},
     "output_type": "execute_result"
    }
   ],
   "source": [
    "None == []"
   ]
  },
  {
   "cell_type": "code",
   "execution_count": 8,
   "id": "02893e82",
   "metadata": {},
   "outputs": [
    {
     "data": {
      "text/plain": [
       "False"
      ]
     },
     "execution_count": 8,
     "metadata": {},
     "output_type": "execute_result"
    }
   ],
   "source": [
    "None ==''"
   ]
  },
  {
   "cell_type": "code",
   "execution_count": 10,
   "id": "f0970c22",
   "metadata": {},
   "outputs": [
    {
     "data": {
      "text/plain": [
       "False"
      ]
     },
     "execution_count": 10,
     "metadata": {},
     "output_type": "execute_result"
    }
   ],
   "source": [
    "None == False"
   ]
  },
  {
   "cell_type": "code",
   "execution_count": 11,
   "id": "a9d39078",
   "metadata": {},
   "outputs": [
    {
     "data": {
      "text/plain": [
       "True"
      ]
     },
     "execution_count": 11,
     "metadata": {},
     "output_type": "execute_result"
    }
   ],
   "source": [
    "a = None\n",
    "a == None"
   ]
  },
  {
   "cell_type": "code",
   "execution_count": 12,
   "id": "8d25dc11",
   "metadata": {},
   "outputs": [
    {
     "ename": "TypeError",
     "evalue": "my_func() missing 1 required positional argument: 'x'",
     "output_type": "error",
     "traceback": [
      "\u001b[1;31m---------------------------------------------------------------------------\u001b[0m",
      "\u001b[1;31mTypeError\u001b[0m                                 Traceback (most recent call last)",
      "\u001b[1;32m<ipython-input-12-966efb3980ae>\u001b[0m in \u001b[0;36m<module>\u001b[1;34m\u001b[0m\n\u001b[0;32m      4\u001b[0m     \u001b[1;32melse\u001b[0m\u001b[1;33m:\u001b[0m\u001b[1;33m\u001b[0m\u001b[1;33m\u001b[0m\u001b[0m\n\u001b[0;32m      5\u001b[0m         \u001b[1;32mreturn\u001b[0m \u001b[1;36m0\u001b[0m\u001b[1;33m\u001b[0m\u001b[1;33m\u001b[0m\u001b[0m\n\u001b[1;32m----> 6\u001b[1;33m \u001b[0mprint\u001b[0m\u001b[1;33m(\u001b[0m\u001b[0mmy_func\u001b[0m\u001b[1;33m(\u001b[0m\u001b[1;33m)\u001b[0m\u001b[1;33m)\u001b[0m\u001b[1;33m\u001b[0m\u001b[1;33m\u001b[0m\u001b[0m\n\u001b[0m",
      "\u001b[1;31mTypeError\u001b[0m: my_func() missing 1 required positional argument: 'x'"
     ]
    }
   ],
   "source": [
    "def my_func(x):\n",
    "    if x:\n",
    "        return x*x\n",
    "    else:\n",
    "        return 0\n",
    "print(my_func())"
   ]
  },
  {
   "cell_type": "code",
   "execution_count": 13,
   "id": "17c59ba6",
   "metadata": {},
   "outputs": [
    {
     "name": "stdout",
     "output_type": "stream",
     "text": [
      "0\n",
      "25\n"
     ]
    }
   ],
   "source": [
    "def my_func(x = None):\n",
    "    if x:\n",
    "        return x*x\n",
    "    else:\n",
    "        return 0\n",
    "print(my_func())\n",
    "print(my_func(5))"
   ]
  },
  {
   "cell_type": "markdown",
   "id": "a353db71",
   "metadata": {},
   "source": [
    "## Dictionary"
   ]
  },
  {
   "cell_type": "code",
   "execution_count": 23,
   "id": "d22751ce",
   "metadata": {},
   "outputs": [
    {
     "name": "stdout",
     "output_type": "stream",
     "text": [
      "<class 'dict'>\n",
      "80\n"
     ]
    }
   ],
   "source": [
    "my_marks = {'Bangla': 80, 'English':90, 'Math': 99}\n",
    "print(type(my_marks))\n",
    "print(my_marks['Bangla'])"
   ]
  },
  {
   "cell_type": "code",
   "execution_count": 31,
   "id": "e63c1893",
   "metadata": {},
   "outputs": [
    {
     "name": "stdout",
     "output_type": "stream",
     "text": [
      "Arif info: {'age': 31, 'dept': 'EEE'}\n"
     ]
    }
   ],
   "source": [
    "info = {\"Arif\" : {'age' : 31, 'dept' : 'EEE'}, \"Rashed\" : {'age' : 28, 'dept' : 'ME'}}\n",
    "print('Arif info:', info['Arif'])"
   ]
  },
  {
   "cell_type": "code",
   "execution_count": 33,
   "id": "c415148a",
   "metadata": {},
   "outputs": [
    {
     "name": "stdout",
     "output_type": "stream",
     "text": [
      "ME\n"
     ]
    }
   ],
   "source": [
    "print(info['Rashed']['dept'])"
   ]
  },
  {
   "cell_type": "code",
   "execution_count": 35,
   "id": "611ceb7f",
   "metadata": {},
   "outputs": [
    {
     "name": "stdout",
     "output_type": "stream",
     "text": [
      "Bangla   80\n",
      "English   90\n",
      "Math   99\n"
     ]
    }
   ],
   "source": [
    "my_marks = {'Bangla': 80, 'English': 90, 'Math': 99}\n",
    "for key in my_marks:\n",
    "    print(key, ' ', my_marks[key])"
   ]
  },
  {
   "cell_type": "code",
   "execution_count": 36,
   "id": "50d6974f",
   "metadata": {},
   "outputs": [
    {
     "name": "stdout",
     "output_type": "stream",
     "text": [
      "Bangla   80\n",
      "English   90\n",
      "Math   99\n"
     ]
    }
   ],
   "source": [
    "my_marks = {'Bangla': 80, 'English': 90, 'Math': 99}\n",
    "for key, value in my_marks.items():\n",
    "    print(key, ' ', value)"
   ]
  },
  {
   "cell_type": "code",
   "execution_count": 42,
   "id": "04e8393b",
   "metadata": {},
   "outputs": [
    {
     "name": "stdout",
     "output_type": "stream",
     "text": [
      "{'Math': 90, 'Bengali': 80, 'English': 99}\n"
     ]
    }
   ],
   "source": [
    "# sorting\n",
    "my_marks = {\"Math\": 90, \"Bengali\": 80, \"English\": 99}\n",
    "print(my_marks)"
   ]
  },
  {
   "cell_type": "code",
   "execution_count": 43,
   "id": "713e1188",
   "metadata": {},
   "outputs": [
    {
     "name": "stdout",
     "output_type": "stream",
     "text": [
      "[('Bengali', 80), ('Math', 90), ('English', 99)]\n"
     ]
    }
   ],
   "source": [
    "# sorted by value\n",
    "print(sorted(my_marks.items(), key = lambda item : item[1]))"
   ]
  },
  {
   "cell_type": "code",
   "execution_count": 44,
   "id": "bea496f5",
   "metadata": {},
   "outputs": [
    {
     "name": "stdout",
     "output_type": "stream",
     "text": [
      "[('Bengali', 80), ('English', 99), ('Math', 90)]\n"
     ]
    }
   ],
   "source": [
    "# sorted by key\n",
    "print(sorted(my_marks.items(), key = lambda item : item[0]))"
   ]
  },
  {
   "cell_type": "markdown",
   "id": "a2d9a1ff",
   "metadata": {},
   "source": [
    "## Tuple"
   ]
  },
  {
   "cell_type": "code",
   "execution_count": 48,
   "id": "9a3866f1",
   "metadata": {},
   "outputs": [
    {
     "name": "stdout",
     "output_type": "stream",
     "text": [
      "<class 'tuple'>\n",
      "Supervisor\n",
      "('Supervisor', 'Admin', 'users')\n"
     ]
    }
   ],
   "source": [
    "roles = ('Supervisor', 'Admin', 'users')\n",
    "print(type(roles))\n",
    "print(roles[0])\n",
    "print(roles)"
   ]
  },
  {
   "cell_type": "code",
   "execution_count": 49,
   "id": "a5f89e8d",
   "metadata": {},
   "outputs": [
    {
     "ename": "TypeError",
     "evalue": "'tuple' object does not support item assignment",
     "output_type": "error",
     "traceback": [
      "\u001b[1;31m---------------------------------------------------------------------------\u001b[0m",
      "\u001b[1;31mTypeError\u001b[0m                                 Traceback (most recent call last)",
      "\u001b[1;32m<ipython-input-49-fd1992c383be>\u001b[0m in \u001b[0;36m<module>\u001b[1;34m\u001b[0m\n\u001b[0;32m      1\u001b[0m \u001b[1;31m# immutableness tuple\u001b[0m\u001b[1;33m\u001b[0m\u001b[1;33m\u001b[0m\u001b[1;33m\u001b[0m\u001b[0m\n\u001b[1;32m----> 2\u001b[1;33m \u001b[0mroles\u001b[0m\u001b[1;33m[\u001b[0m\u001b[1;36m1\u001b[0m\u001b[1;33m]\u001b[0m \u001b[1;33m=\u001b[0m \u001b[1;34m'Sakir'\u001b[0m\u001b[1;33m\u001b[0m\u001b[1;33m\u001b[0m\u001b[0m\n\u001b[0m",
      "\u001b[1;31mTypeError\u001b[0m: 'tuple' object does not support item assignment"
     ]
    }
   ],
   "source": [
    "# immutableness tuple\n",
    "roles[1] = 'Sakir'"
   ]
  },
  {
   "cell_type": "code",
   "execution_count": 50,
   "id": "892e71ef",
   "metadata": {},
   "outputs": [
    {
     "name": "stdout",
     "output_type": "stream",
     "text": [
      "1\n"
     ]
    }
   ],
   "source": [
    "# tuple unpacking\n",
    "numbers = (1, 2, 5, 8, 9)\n",
    "a,b,c,d,e = numbers\n",
    "print(a)\n"
   ]
  },
  {
   "cell_type": "code",
   "execution_count": 52,
   "id": "dcc85e9f",
   "metadata": {},
   "outputs": [
    {
     "name": "stdout",
     "output_type": "stream",
     "text": [
      "1\n",
      "5\n",
      "[4, 66, 8, 9, 7, 5, 666, 33, 32, 47]\n",
      "50\n"
     ]
    }
   ],
   "source": [
    "number = (1, 5, 4, 66, 8, 9, 7, 5, 666, 33, 32, 47, 50)\n",
    "a, b, *c, d = number\n",
    "print(a)\n",
    "print(b)\n",
    "print(c)\n",
    "print(d)"
   ]
  },
  {
   "cell_type": "code",
   "execution_count": null,
   "id": "a6fcef56",
   "metadata": {},
   "outputs": [],
   "source": []
  }
 ],
 "metadata": {
  "kernelspec": {
   "display_name": "Python 3",
   "language": "python",
   "name": "python3"
  },
  "language_info": {
   "codemirror_mode": {
    "name": "ipython",
    "version": 3
   },
   "file_extension": ".py",
   "mimetype": "text/x-python",
   "name": "python",
   "nbconvert_exporter": "python",
   "pygments_lexer": "ipython3",
   "version": "3.9.6"
  }
 },
 "nbformat": 4,
 "nbformat_minor": 5
}
