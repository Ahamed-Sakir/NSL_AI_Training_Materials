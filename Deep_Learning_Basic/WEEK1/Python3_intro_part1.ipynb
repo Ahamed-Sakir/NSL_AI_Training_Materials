{
 "cells": [
  {
   "cell_type": "markdown",
   "id": "20f08a88",
   "metadata": {},
   "source": [
    "## Index\n",
    "    - List\n",
    "    - None type\n",
    "    - Dictionary\n",
    "    - Tuple\n",
    "    - Set\n",
    "\n",
    "## List"
   ]
  },
  {
   "cell_type": "code",
   "execution_count": null,
   "id": "be6501cb",
   "metadata": {},
   "outputs": [],
   "source": []
  },
  {
   "cell_type": "code",
   "execution_count": null,
   "id": "7b81a1cb",
   "metadata": {},
   "outputs": [],
   "source": []
  }
 ],
 "metadata": {
  "kernelspec": {
   "display_name": "Python 3",
   "language": "python",
   "name": "python3"
  },
  "language_info": {
   "codemirror_mode": {
    "name": "ipython",
    "version": 3
   },
   "file_extension": ".py",
   "mimetype": "text/x-python",
   "name": "python",
   "nbconvert_exporter": "python",
   "pygments_lexer": "ipython3",
   "version": "3.9.6"
  }
 },
 "nbformat": 4,
 "nbformat_minor": 5
}
