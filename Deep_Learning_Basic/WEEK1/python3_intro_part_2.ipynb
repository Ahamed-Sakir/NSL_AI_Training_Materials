{
 "cells": [
  {
   "cell_type": "markdown",
   "id": "18396420",
   "metadata": {},
   "source": [
    "## Index\n",
    "- List comprehension\n",
    "- Dictionary comprehension"
   ]
  },
  {
   "cell_type": "markdown",
   "id": "ee3ea4b4",
   "metadata": {},
   "source": [
    "## List Comprehension"
   ]
  },
  {
   "cell_type": "code",
   "execution_count": 1,
   "id": "a125ed2a",
   "metadata": {},
   "outputs": [],
   "source": [
    "num_list = [1,2,3,4,56,7,8,9,1011,22,222,4]"
   ]
  },
  {
   "cell_type": "code",
   "execution_count": 2,
   "id": "a44c2acf",
   "metadata": {},
   "outputs": [
    {
     "name": "stdout",
     "output_type": "stream",
     "text": [
      "[2, 4, 56, 8, 22, 222, 4]\n"
     ]
    }
   ],
   "source": [
    "# Normal rule\n",
    "even_num_list = []\n",
    "for num in num_list:\n",
    "    if num % 2 == 0:\n",
    "        even_num_list.append(num)\n",
    "print(even_num_list)"
   ]
  },
  {
   "cell_type": "code",
   "execution_count": 3,
   "id": "e9c0c508",
   "metadata": {},
   "outputs": [
    {
     "name": "stdout",
     "output_type": "stream",
     "text": [
      "[2, 4, 56, 8, 22, 222, 4]\n"
     ]
    }
   ],
   "source": [
    "# Using list comprehension\n",
    "even_num_list = [num for num in num_list if num % 2 == 0]\n",
    "print(even_num_list)"
   ]
  },
  {
   "cell_type": "code",
   "execution_count": 4,
   "id": "388e2223",
   "metadata": {},
   "outputs": [
    {
     "name": "stdout",
     "output_type": "stream",
     "text": [
      "[1, 2, 3, 4, 5, 6]\n"
     ]
    }
   ],
   "source": [
    "# Normal rule\n",
    "matrix_1d = []\n",
    "matrix_2d = [[1,2,3],\n",
    "            [4,5,6]]\n",
    "for row in matrix_2d:\n",
    "    for num in row:\n",
    "        matrix_1d.append(num)\n",
    "print(matrix_1d)"
   ]
  },
  {
   "cell_type": "code",
   "execution_count": 6,
   "id": "d904f829",
   "metadata": {},
   "outputs": [
    {
     "name": "stdout",
     "output_type": "stream",
     "text": [
      "[1, 2, 3, 4, 5, 6]\n"
     ]
    }
   ],
   "source": [
    "# List comprehension\n",
    "matrix_1d = [num for row in matrix_2d for num in row]\n",
    "print(matrix_1d)"
   ]
  },
  {
   "cell_type": "code",
   "execution_count": 11,
   "id": "2120268e",
   "metadata": {},
   "outputs": [
    {
     "name": "stdout",
     "output_type": "stream",
     "text": [
      "[1, 256, 6561, 65536, 390625, 1679616, 1, 256, 6561, 65536, 390625, 1679616, 1, 256, 6561, 65536, 390625, 1679616, 1, 256, 6561, 65536, 390625, 1679616, 1, 256, 6561, 65536, 390625, 1679616, 1, 256, 6561, 65536, 390625, 1679616, 1, 256, 6561, 65536, 390625, 1679616, 1, 256, 6561, 65536, 390625, 1679616]\n"
     ]
    }
   ],
   "source": [
    "# Operation on item\n",
    "matrix_1d = [num**2 for row in matrix_2d for num in matrix_1d]\n",
    "print(matrix_1d)"
   ]
  },
  {
   "cell_type": "code",
   "execution_count": 15,
   "id": "6c802c0a",
   "metadata": {},
   "outputs": [
    {
     "name": "stdout",
     "output_type": "stream",
     "text": [
      "I m wsm\n"
     ]
    }
   ],
   "source": [
    "# Another example\n",
    "vowels = 'aeiou'\n",
    "sentence = 'I am awesome'\n",
    "new_sentence = []\n",
    "for word in sentence:\n",
    "    if word not in vowels:\n",
    "        new_sentence.append(word)\n",
    "\n",
    "new_sentence = ''.join(new_sentence)\n",
    "print(new_sentence)"
   ]
  },
  {
   "cell_type": "code",
   "execution_count": 17,
   "id": "a042cd78",
   "metadata": {},
   "outputs": [
    {
     "name": "stdout",
     "output_type": "stream",
     "text": [
      "Pythn's lst cmprhnsns r wsm\n"
     ]
    }
   ],
   "source": [
    "# Using list comprehension\n",
    "vowels = 'aeiou'\n",
    "sentence = 'Python\\'s list comprehensions are awesome'\n",
    "new_sentence = ''.join([word for word in sentence if word not in vowels])\n",
    "print(new_sentence)"
   ]
  },
  {
   "cell_type": "markdown",
   "id": "93d311bc",
   "metadata": {},
   "source": [
    "## Dictionary Comprehension"
   ]
  },
  {
   "cell_type": "code",
   "execution_count": 18,
   "id": "05e8b3ad",
   "metadata": {},
   "outputs": [
    {
     "name": "stdout",
     "output_type": "stream",
     "text": [
      "Marks:  {'Sakir': 88, 'Anannya': 90, 'Labonno': 99, 'Reason': 70, 'Khadija': 50}\n",
      "Filtered marks:  {'Sakir': 88, 'Anannya': 90, 'Labonno': 99}\n"
     ]
    }
   ],
   "source": [
    "marks = {'Sakir': 88, 'Anannya': 90, 'Labonno': 99, 'Reason': 70, 'Khadija': 50}\n",
    "print('Marks: ', marks)\n",
    "filtered_marks = {key: value for key, value in marks.items() if value >= 80}\n",
    "print('Filtered marks: ', filtered_marks)"
   ]
  },
  {
   "cell_type": "code",
   "execution_count": 19,
   "id": "0478bad7",
   "metadata": {},
   "outputs": [
    {
     "name": "stdout",
     "output_type": "stream",
     "text": [
      "{1: 'Mango', 2: 'Apple', 3: 'Orange'}\n"
     ]
    }
   ],
   "source": [
    "# Some application \n",
    "# Normal approach\n",
    "fruits_ranks = [1,2,3]\n",
    "fruits_list = ['Mango', 'Apple', 'Orange']\n",
    "fruits_rank_dic = {}\n",
    "for i in range(len(fruits_ranks)):\n",
    "    fruits_rank_dic[fruits_ranks[i]] = fruits_list[i]\n",
    "print(fruits_rank_dic)"
   ]
  },
  {
   "cell_type": "code",
   "execution_count": 20,
   "id": "18f667ec",
   "metadata": {},
   "outputs": [
    {
     "name": "stdout",
     "output_type": "stream",
     "text": [
      "{1: 'Mango', 2: 'Apple', 3: 'Orange'}\n"
     ]
    }
   ],
   "source": [
    "# List comprehension\n",
    "fruits_rank = {fruits_ranks[i] : fruits_list[i] for i in range(len(fruits_ranks))}\n",
    "print(fruits_rank)"
   ]
  },
  {
   "cell_type": "code",
   "execution_count": 23,
   "id": "6e7a3db5",
   "metadata": {},
   "outputs": [
    {
     "name": "stdout",
     "output_type": "stream",
     "text": [
      "((1, 4), (2, 5), (4, 6), (56, 8), (7, 71), (8, 2))\n",
      "without using tuple <zip object at 0x000001BE20E67400>\n",
      "By using loop:\n",
      "1 4\n",
      "2 5\n",
      "4 6\n",
      "56 8\n",
      "7 71\n",
      "8 2\n"
     ]
    }
   ],
   "source": [
    "# Zip\n",
    "a = [1,2,4,56,7,8]\n",
    "b = [4,5,6,8,71,2,4]\n",
    "x = zip(a,b)\n",
    "# To print readable zip object version use tuple\n",
    "print(tuple(x))\n",
    "print('without using tuple', x)\n",
    "print('By using loop:')\n",
    "for i , k in zip(a,b):\n",
    "    print(i,k)"
   ]
  },
  {
   "cell_type": "code",
   "execution_count": null,
   "id": "747535ec",
   "metadata": {},
   "outputs": [],
   "source": [
    "# Enumerate\n",
    "subject = ['cse', 'eee', 'math']\n"
   ]
  }
 ],
 "metadata": {
  "kernelspec": {
   "display_name": "Python 3",
   "language": "python",
   "name": "python3"
  },
  "language_info": {
   "codemirror_mode": {
    "name": "ipython",
    "version": 3
   },
   "file_extension": ".py",
   "mimetype": "text/x-python",
   "name": "python",
   "nbconvert_exporter": "python",
   "pygments_lexer": "ipython3",
   "version": "3.9.6"
  }
 },
 "nbformat": 4,
 "nbformat_minor": 5
}
