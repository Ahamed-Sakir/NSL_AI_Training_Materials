{
 "cells": [
  {
   "cell_type": "markdown",
   "id": "4ab8a8bf",
   "metadata": {},
   "source": [
    "# Index\n",
    " - Download dataset\n",
    " - Sneak-Peak on dataset\n",
    " - Creating model\n",
    " - Compile model\n",
    " - Preprocessing data using keras \n",
    " - Train or Fit model\n",
    " - Evaluating Model\n",
    " - Visualizing the training process\n",
    " - Save and load model\n",
    " - Test a single image"
   ]
  },
  {
   "cell_type": "markdown",
   "id": "cb45cd95",
   "metadata": {},
   "source": [
    "## Download dataset"
   ]
  },
  {
   "cell_type": "code",
   "execution_count": 6,
   "id": "fa1678ff",
   "metadata": {},
   "outputs": [
    {
     "name": "stderr",
     "output_type": "stream",
     "text": [
      "'wget' is not recognized as an internal or external command,\n",
      "operable program or batch file.\n"
     ]
    }
   ],
   "source": [
    "!wget --no-check-certificate \\\n",
    "    https://storage.googleapis.com/mledu-datasets/cats_and_dogs_filtered.zip"
   ]
  },
  {
   "cell_type": "code",
   "execution_count": null,
   "id": "fed18473",
   "metadata": {},
   "outputs": [],
   "source": []
  }
 ],
 "metadata": {
  "kernelspec": {
   "display_name": "Python 3",
   "language": "python",
   "name": "python3"
  },
  "language_info": {
   "codemirror_mode": {
    "name": "ipython",
    "version": 3
   },
   "file_extension": ".py",
   "mimetype": "text/x-python",
   "name": "python",
   "nbconvert_exporter": "python",
   "pygments_lexer": "ipython3",
   "version": "3.9.6"
  }
 },
 "nbformat": 4,
 "nbformat_minor": 5
}
