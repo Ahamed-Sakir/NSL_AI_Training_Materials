{
 "cells": [
  {
   "cell_type": "markdown",
   "id": "3a5525b7",
   "metadata": {},
   "source": [
    "## Numpy"
   ]
  },
  {
   "cell_type": "code",
   "execution_count": 7,
   "id": "7af1ed62",
   "metadata": {},
   "outputs": [
    {
     "name": "stdout",
     "output_type": "stream",
     "text": [
      "<class 'numpy.ndarray'>\n",
      "[ 1  2  3 45  5]\n",
      "int32\n",
      "(5,)\n"
     ]
    }
   ],
   "source": [
    "# Create 1d numpy array\n",
    "import numpy as np\n",
    "a = np.array([1,2,3,45,5])\n",
    "print(type(a))\n",
    "print(a)\n",
    "print(a.dtype)\n",
    "print(a.shape)"
   ]
  },
  {
   "cell_type": "code",
   "execution_count": 9,
   "id": "415714c5",
   "metadata": {},
   "outputs": [
    {
     "name": "stdout",
     "output_type": "stream",
     "text": [
      "float32\n",
      "2.0 5.0\n"
     ]
    }
   ],
   "source": [
    "# set datatype when creating numpy array\n",
    "a = np.array([1,2,3,4,5], dtype = 'float32')\n",
    "print(a.dtype)\n",
    "print(a[1], a[-1])"
   ]
  },
  {
   "cell_type": "code",
   "execution_count": 14,
   "id": "4d8b5faf",
   "metadata": {},
   "outputs": [
    {
     "name": "stdout",
     "output_type": "stream",
     "text": [
      "(2, 4)\n",
      "1 5\n",
      "4 8\n",
      "[[1 2 3 4]\n",
      " [4 5 6 8]]\n"
     ]
    }
   ],
   "source": [
    "# 2d matrix\n",
    "a = np.array([[1,2,3,4],[4,5,6,8]])\n",
    "print(a.shape)\n",
    "print(a[0][0], a[1][1])\n",
    "print(a[0,3], a[1,3])\n",
    "print(a)"
   ]
  },
  {
   "cell_type": "code",
   "execution_count": 16,
   "id": "a731f0ff",
   "metadata": {},
   "outputs": [
    {
     "name": "stdout",
     "output_type": "stream",
     "text": [
      "[[1. 1.]\n",
      " [1. 1.]]\n",
      "[[0. 0. 0.]\n",
      " [0. 0. 0.]\n",
      " [0. 0. 0.]]\n"
     ]
    }
   ],
   "source": [
    "# built in array\n",
    "a = np.ones((2,2))\n",
    "print(a)\n",
    "b = np.zeros((3,3))\n",
    "print(b)"
   ]
  },
  {
   "cell_type": "code",
   "execution_count": 22,
   "id": "d29aedde",
   "metadata": {},
   "outputs": [
    {
     "name": "stdout",
     "output_type": "stream",
     "text": [
      "[[1. 0. 0. 0.]\n",
      " [0. 1. 0. 0.]\n",
      " [0. 0. 1. 0.]\n",
      " [0. 0. 0. 1.]]\n",
      "[[0.34935706 0.98939735]\n",
      " [0.62563399 0.54551331]]\n"
     ]
    }
   ],
   "source": [
    "# another\n",
    "a = np.eye(4)\n",
    "print(a)\n",
    "b = np.random.random((2,2))\n",
    "print(b)"
   ]
  },
  {
   "cell_type": "markdown",
   "id": "586f8e26",
   "metadata": {},
   "source": [
    "## Array Indexing\n",
    "- [indexing](https://numpy.org/doc/stable/user/quickstart.html)\n",
    "- [Another link](https://scipy-lectures.org/intro/numpy/array_object.html)"
   ]
  },
  {
   "cell_type": "code",
   "execution_count": 28,
   "id": "517a3476",
   "metadata": {},
   "outputs": [
    {
     "name": "stdout",
     "output_type": "stream",
     "text": [
      "[[ 1  2  3  4]\n",
      " [ 6  7  8  9]\n",
      " [11  2 22 44]]\n",
      "Using index:\n",
      "[[2 3]\n",
      " [7 8]]\n"
     ]
    }
   ],
   "source": [
    "a = np.array([[1,2,3,4], [6,7,8,9], [11,2,22,44]])\n",
    "print(a)\n",
    "print('Using index:')\n",
    "print(a[:2, 1:3])"
   ]
  },
  {
   "cell_type": "markdown",
   "id": "bd48a9d9",
   "metadata": {},
   "source": [
    "## Masking\n",
    "- [check this link](https://www.python-course.eu/numpy_masking.php)\n",
    "- [Numpy org - Masked Array](https://numpy.org/doc/stable/reference/maskedarray.html)"
   ]
  },
  {
   "cell_type": "code",
   "execution_count": 35,
   "id": "8eca7fa2",
   "metadata": {},
   "outputs": [
    {
     "name": "stdout",
     "output_type": "stream",
     "text": [
      "[[1 1]\n",
      " [1 0]\n",
      " [1 0]]\n",
      "using bool index: [12 11 14 45]\n",
      "Direct: [12 11 14 45]\n"
     ]
    }
   ],
   "source": [
    "a = np.array([[12,11], [14,5], [45,1]])\n",
    "bool_index = (a > 10)\n",
    "print(bool_index.astype(int))\n",
    "print('using bool index:', a[bool_index])\n",
    "print('Direct:', a[a > 10])"
   ]
  },
  {
   "cell_type": "code",
   "execution_count": 46,
   "id": "03d44c47",
   "metadata": {},
   "outputs": [
    {
     "name": "stdout",
     "output_type": "stream",
     "text": [
      "[[ 7 16 27]\n",
      " [ 4 14 24]\n",
      " [24 45 48]]\n",
      "Multiplication: \n",
      " [[ 7 16 27]\n",
      " [ 4 14 24]\n",
      " [24 45 48]]\n",
      "addition: \n",
      " [[ 8 10 12]\n",
      " [ 5  9 11]\n",
      " [10 14 14]]\n",
      "Division: \n",
      " [[0.14285714 0.25       0.33333333]\n",
      " [0.25       0.28571429 0.375     ]\n",
      " [0.66666667 0.55555556 0.75      ]]\n",
      "Subtraction: \n",
      " [[-6 -6 -6]\n",
      " [-3 -5 -5]\n",
      " [-2 -4 -2]]\n",
      "Sqrt: \n",
      " [[1.         1.41421356 1.73205081]\n",
      " [1.         1.41421356 1.73205081]\n",
      " [2.         2.23606798 2.44948974]]\n"
     ]
    }
   ],
   "source": [
    "a = np.array([[1,2,3], [1,2,3], [4,5,6]])\n",
    "b = np.array([[7,8,9], [4,7,8], [6,9,8]])\n",
    "\n",
    "# multiply\n",
    "print(a * b)\n",
    "print('Multiplication: \\n', np.multiply(a, b))\n",
    "\n",
    "# Add\n",
    "print('addition: \\n', np.add(a, b))\n",
    "print('Division: \\n', np.divide(a, b))\n",
    "print('Subtraction: \\n', np.subtract(a, b))\n",
    "print('Sqrt: \\n', np.sqrt(a))"
   ]
  },
  {
   "cell_type": "markdown",
   "id": "28a97982",
   "metadata": {},
   "source": [
    "## Numpy reshape"
   ]
  },
  {
   "cell_type": "code",
   "execution_count": 48,
   "id": "6e0dae8e",
   "metadata": {},
   "outputs": [
    {
     "name": "stdout",
     "output_type": "stream",
     "text": [
      "[ 0  1  2  3  4  5  6  7  8  9 10 11]\n"
     ]
    }
   ],
   "source": [
    "x = np.arange(12)\n",
    "print(x)"
   ]
  },
  {
   "cell_type": "code",
   "execution_count": 50,
   "id": "155bc0cb",
   "metadata": {},
   "outputs": [
    {
     "data": {
      "text/plain": [
       "array([[ 0,  1,  2,  3],\n",
       "       [ 4,  5,  6,  7],\n",
       "       [ 8,  9, 10, 11]])"
      ]
     },
     "execution_count": 50,
     "metadata": {},
     "output_type": "execute_result"
    }
   ],
   "source": [
    "x = x.reshape(3,4)\n",
    "x"
   ]
  },
  {
   "cell_type": "code",
   "execution_count": null,
   "id": "a33d58f3",
   "metadata": {},
   "outputs": [],
   "source": []
  }
 ],
 "metadata": {
  "kernelspec": {
   "display_name": "Python 3",
   "language": "python",
   "name": "python3"
  },
  "language_info": {
   "codemirror_mode": {
    "name": "ipython",
    "version": 3
   },
   "file_extension": ".py",
   "mimetype": "text/x-python",
   "name": "python",
   "nbconvert_exporter": "python",
   "pygments_lexer": "ipython3",
   "version": "3.9.6"
  }
 },
 "nbformat": 4,
 "nbformat_minor": 5
}
